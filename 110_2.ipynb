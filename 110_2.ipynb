{
  "nbformat": 4,
  "nbformat_minor": 0,
  "metadata": {
    "colab": {
      "provenance": [],
      "collapsed_sections": []
    },
    "kernelspec": {
      "name": "python3",
      "display_name": "Python 3"
    },
    "language_info": {
      "name": "python"
    }
  },
  "cells": [
    {
      "cell_type": "code",
      "execution_count": null,
      "metadata": {
        "colab": {
          "base_uri": "https://localhost:8080/"
        },
        "outputId": "b4408d3c-6d98-4510-8860-356d007cd799",
        "id": "prqaKUAHuIw3"
      },
      "outputs": [
        {
          "output_type": "stream",
          "name": "stdout",
          "text": [
            "24, 18, 12, 6, 0, -6"
          ]
        }
      ],
      "source": [
        "#task1a\n",
        "counter = 24 \n",
        "while counter >= -6 :\n",
        "  if counter == -6 :\n",
        "    print(counter, end ='')\n",
        "  else :\n",
        "    print(counter, end = ', ')\n",
        "  counter = counter - 6"
      ]
    },
    {
      "cell_type": "code",
      "source": [
        "#task1b\n",
        "counter = -10\n",
        "while counter <= 20 :\n",
        "  if counter == 20 :\n",
        "    print(counter, end = \"\")\n",
        "  else :\n",
        "    print(counter, end = \", \")\n",
        "  counter += 5"
      ],
      "metadata": {
        "colab": {
          "base_uri": "https://localhost:8080/"
        },
        "id": "fxaxYhByuXuP",
        "outputId": "4efdfdba-9f0c-49d8-f368-41ba597343ed"
      },
      "execution_count": null,
      "outputs": [
        {
          "output_type": "stream",
          "name": "stdout",
          "text": [
            "-10, -5, 0, 5, 10, 15, 20"
          ]
        }
      ]
    },
    {
      "cell_type": "code",
      "source": [
        "#task1c\n",
        "counter = 18\n",
        "while counter <= 63 :\n",
        "  if counter == 63 :\n",
        "    print(counter, end = \"\")\n",
        "  else :\n",
        "    print(counter, end = \", \")\n",
        "  counter += 9"
      ],
      "metadata": {
        "colab": {
          "base_uri": "https://localhost:8080/"
        },
        "id": "eSBf95rxvQS6",
        "outputId": "68116dfa-4b8f-493f-8f38-3683a4837a1b"
      },
      "execution_count": null,
      "outputs": [
        {
          "output_type": "stream",
          "name": "stdout",
          "text": [
            "18, 27, 36, 45, 54, 63"
          ]
        }
      ]
    },
    {
      "cell_type": "code",
      "source": [
        "#task1d\n",
        "counter = 18\n",
        "while counter <= 63 :\n",
        "  if counter == 63 :\n",
        "    print(-counter, end = \"\")\n",
        "  elif counter%2 == 1 :\n",
        "    print(-counter, end = \",\")\n",
        "  else :\n",
        "    print(counter, end = \",\")\n",
        "  counter += 9"
      ],
      "metadata": {
        "colab": {
          "base_uri": "https://localhost:8080/"
        },
        "id": "XvxAMJLTv-u7",
        "outputId": "f30afbf1-1e64-45e8-91af-8bf5438889a6"
      },
      "execution_count": null,
      "outputs": [
        {
          "output_type": "stream",
          "name": "stdout",
          "text": [
            "18,-27,36,-45,54,-63"
          ]
        }
      ]
    },
    {
      "cell_type": "code",
      "source": [
        "#task2\n",
        "count = 0\n",
        "car = input(\"Enter the name of the car: \")\n",
        "num = int(input(\"Enter number: \"))\n",
        "while count < num :\n",
        "  print(car)\n",
        "  count += 1"
      ],
      "metadata": {
        "colab": {
          "base_uri": "https://localhost:8080/"
        },
        "id": "ZckF91EHx0lw",
        "outputId": "93f0759a-f05a-414c-b802-a4f51b8da060"
      },
      "execution_count": null,
      "outputs": [
        {
          "output_type": "stream",
          "name": "stdout",
          "text": [
            "Enter the name of the car: Porshe 911\n",
            "Enter number: 3\n",
            "Porshe 911\n",
            "Porshe 911\n",
            "Porshe 911\n"
          ]
        }
      ]
    },
    {
      "cell_type": "code",
      "source": [
        "#task3\n",
        "sum = 0\n",
        "for i in range(0, 600) :\n",
        "  if i%7 == 0 and i%9 == 0 :\n",
        "    sum +=i \n",
        "print(sum)"
      ],
      "metadata": {
        "colab": {
          "base_uri": "https://localhost:8080/"
        },
        "id": "KsDsjIx9z_Lg",
        "outputId": "19660c07-7ea3-42af-fe90-b4d9d0f14fb7"
      },
      "execution_count": null,
      "outputs": [
        {
          "output_type": "stream",
          "name": "stdout",
          "text": [
            "2835\n"
          ]
        }
      ]
    },
    {
      "cell_type": "code",
      "source": [
        "#task4\n",
        "sum = 0 \n",
        "for i in range(0,600) :\n",
        "  if (i%7 == 0 or i%9 == 0) and (i%7 != i%9) :\n",
        "    sum += i\n",
        "print(sum)\n"
      ],
      "metadata": {
        "colab": {
          "base_uri": "https://localhost:8080/"
        },
        "id": "f8MV9rL597pS",
        "outputId": "8080e6f3-b8c6-42cc-f0fb-0fe1ac66c65d"
      },
      "execution_count": null,
      "outputs": [
        {
          "output_type": "stream",
          "name": "stdout",
          "text": [
            "39814\n"
          ]
        }
      ]
    },
    {
      "cell_type": "code",
      "source": [
        "#task5\n",
        "for i in range(9,51,2) :\n",
        "  print(i, end =' ')"
      ],
      "metadata": {
        "colab": {
          "base_uri": "https://localhost:8080/"
        },
        "id": "XuGJ1VZe_EWu",
        "outputId": "959f32e7-0c20-40b4-9d00-7392bb396627"
      },
      "execution_count": null,
      "outputs": [
        {
          "output_type": "stream",
          "name": "stdout",
          "text": [
            "9 11 13 15 17 19 21 23 25 27 29 31 33 35 37 39 41 43 45 47 49 "
          ]
        }
      ]
    },
    {
      "cell_type": "code",
      "source": [
        "#task6\n",
        "sum = 0\n",
        "n = int(input(\"Enter n: \"))\n",
        "for i in range(n+1) :\n",
        "  if i%2 == 0 :\n",
        "    sum -=i**2\n",
        "  else :\n",
        "    sum += i**2\n",
        "print(sum)"
      ],
      "metadata": {
        "colab": {
          "base_uri": "https://localhost:8080/"
        },
        "id": "f-Yn3fvQAd9B",
        "outputId": "57d14279-45ea-47df-d5df-335ba84176d9"
      },
      "execution_count": null,
      "outputs": [
        {
          "output_type": "stream",
          "name": "stdout",
          "text": [
            "Enter n: 6\n",
            "-21\n"
          ]
        }
      ]
    },
    {
      "cell_type": "code",
      "source": [
        "#task7\n",
        "sum = 0 \n",
        "odd_num = 0\n",
        "for i in range(10) :\n",
        "  num = int(input(\"Enter: \"))\n",
        "  if num%2 == 1 :\n",
        "    sum += num\n",
        "    odd_num += 1\n",
        "  i += 1\n",
        "avg = sum/odd_num\n",
        "print(\"The total of odd numbers is\", sum, \"and their average is\", avg)"
      ],
      "metadata": {
        "id": "-jtcozwlJCIa",
        "colab": {
          "base_uri": "https://localhost:8080/"
        },
        "outputId": "27935153-1b87-478e-f00d-45b177c1a520"
      },
      "execution_count": null,
      "outputs": [
        {
          "output_type": "stream",
          "name": "stdout",
          "text": [
            "Enter: 1\n",
            "Enter: 2\n",
            "Enter: 3\n",
            "Enter: 4\n",
            "Enter: 5\n",
            "Enter: 6\n",
            "Enter: 7\n",
            "Enter: 8\n",
            "Enter: 9\n",
            "Enter: 10\n",
            "The total of odd numbers is 25 and their average is 5.0\n"
          ]
        }
      ]
    },
    {
      "cell_type": "code",
      "source": [
        "#task8\n",
        "sum = 0 \n",
        "n = int(input(\"N: \"))\n",
        "for i in range(n+1) :\n",
        "  if i%7 == 0 :\n",
        "    sum += i\n",
        "  i += 1\n",
        "print(sum)"
      ],
      "metadata": {
        "colab": {
          "base_uri": "https://localhost:8080/"
        },
        "id": "YWXFiXMFL1TV",
        "outputId": "437323cd-abad-43a8-87c7-ab43fe8dd40c"
      },
      "execution_count": null,
      "outputs": [
        {
          "output_type": "stream",
          "name": "stdout",
          "text": [
            "N: 75\n",
            "385\n"
          ]
        }
      ]
    },
    {
      "cell_type": "code",
      "source": [
        "#task9\n",
        "sum = 0\n",
        "for i in range(5) :\n",
        "  num = int(input('Enter number: '))\n",
        "  sum += num\n",
        "  i += 1\n",
        "  print(sum)"
      ],
      "metadata": {
        "colab": {
          "base_uri": "https://localhost:8080/"
        },
        "id": "SVamh5L1NdR-",
        "outputId": "69518f77-7d95-4b23-c90a-28438fede1b5"
      },
      "execution_count": null,
      "outputs": [
        {
          "output_type": "stream",
          "name": "stdout",
          "text": [
            "Enter number: 1\n",
            "1\n",
            "Enter number: 2\n",
            "3\n",
            "Enter number: 3\n",
            "6\n",
            "Enter number: 4\n",
            "10\n",
            "Enter number: 5\n",
            "15\n"
          ]
        }
      ]
    },
    {
      "cell_type": "code",
      "source": [
        "#task10\n",
        "num = int(input(\"Enter the number: \"))\n",
        "while num>0 :\n",
        "  rem = num%10 \n",
        "  print(rem, end=\", \")\n",
        "  num = num//10\n",
        "  if num//10 == 0 :\n",
        "    break\n",
        "print(num)"
      ],
      "metadata": {
        "colab": {
          "base_uri": "https://localhost:8080/"
        },
        "id": "poijw-lPP3sB",
        "outputId": "32159acf-fcc1-43d0-9136-8fe995cfc83a"
      },
      "execution_count": null,
      "outputs": [
        {
          "output_type": "stream",
          "name": "stdout",
          "text": [
            "Enter the number: 32768\n",
            "8, 6, 7, 2, 3\n"
          ]
        }
      ]
    },
    {
      "cell_type": "code",
      "source": [
        "#task11\n",
        "num = int(input(\"Enter number: \"))\n",
        "count = 1\n",
        "while num > 0 :\n",
        "  num = num//10    \n",
        "  count += 1\n",
        "  if num//10 == 0 :\n",
        "    break\n",
        "print(count)"
      ],
      "metadata": {
        "colab": {
          "base_uri": "https://localhost:8080/"
        },
        "id": "qanFBjx3Zlgz",
        "outputId": "70c9bcb2-11de-42ad-cff4-1b2acab93987"
      },
      "execution_count": null,
      "outputs": [
        {
          "output_type": "stream",
          "name": "stdout",
          "text": [
            "Enter number: 1234\n",
            "4\n"
          ]
        }
      ]
    },
    {
      "cell_type": "code",
      "source": [
        "#task12\n",
        "main_num=int(input(\"Enter a number: \"))\n",
        "count=0\n",
        "num=main_num\n",
        "while num!=0:\n",
        "    count+=1\n",
        "    num//=10\n",
        "num=main_num\n",
        "while num > 0 :\n",
        "  char = num//10**(count-1)\n",
        "  num = num%10**(count-1)\n",
        "  count -= 1\n",
        "  if count == 0 :\n",
        "    print(char, end= \"\")\n",
        "  else :\n",
        "    print(char, end = \", \")"
      ],
      "metadata": {
        "colab": {
          "base_uri": "https://localhost:8080/"
        },
        "id": "Wzpe2SF4Ecv3",
        "outputId": "0af7f869-ac80-478c-f781-df8cd08d1294"
      },
      "execution_count": null,
      "outputs": [
        {
          "output_type": "stream",
          "name": "stdout",
          "text": [
            "Enter a number: 3446\n",
            "3, 4, 4, 6"
          ]
        }
      ]
    },
    {
      "cell_type": "code",
      "source": [
        "n = input(\"\")\n",
        "print(\", \".join(i for i in n))"
      ],
      "metadata": {
        "colab": {
          "base_uri": "https://localhost:8080/"
        },
        "id": "7MiG6baQ_LcT",
        "outputId": "97343022-e913-451b-d3af-32f6edfed712"
      },
      "execution_count": null,
      "outputs": [
        {
          "output_type": "stream",
          "name": "stdout",
          "text": [
            "1092\n",
            "1, 0, 9, 2\n"
          ]
        }
      ]
    },
    {
      "cell_type": "code",
      "source": [
        "  "
      ],
      "metadata": {
        "colab": {
          "base_uri": "https://localhost:8080/",
          "height": 252
        },
        "id": "1ZA8kIuJAIpM",
        "outputId": "8fba6042-2c9d-4c70-b24e-7d8e6509877f"
      },
      "execution_count": null,
      "outputs": [
        {
          "name": "stdout",
          "output_type": "stream",
          "text": [
            "ghgg\n"
          ]
        },
        {
          "output_type": "error",
          "ename": "ValueError",
          "evalue": "ignored",
          "traceback": [
            "\u001b[0;31m---------------------------------------------------------------------------\u001b[0m",
            "\u001b[0;31mValueError\u001b[0m                                Traceback (most recent call last)",
            "\u001b[0;32m<ipython-input-13-6d82b0e45489>\u001b[0m in \u001b[0;36m<module>\u001b[0;34m()\u001b[0m\n\u001b[0;32m----> 1\u001b[0;31m \u001b[0mx\u001b[0m\u001b[0;34m=\u001b[0m\u001b[0mint\u001b[0m\u001b[0;34m(\u001b[0m\u001b[0minput\u001b[0m\u001b[0;34m(\u001b[0m\u001b[0;34m)\u001b[0m\u001b[0;34m)\u001b[0m\u001b[0;34m\u001b[0m\u001b[0;34m\u001b[0m\u001b[0m\n\u001b[0m\u001b[1;32m      2\u001b[0m \u001b[0;32mfor\u001b[0m \u001b[0mi\u001b[0m \u001b[0;32min\u001b[0m \u001b[0mstr\u001b[0m\u001b[0;34m(\u001b[0m\u001b[0mx\u001b[0m\u001b[0;34m)\u001b[0m\u001b[0;34m:\u001b[0m\u001b[0;34m\u001b[0m\u001b[0;34m\u001b[0m\u001b[0m\n\u001b[1;32m      3\u001b[0m   \u001b[0;32mif\u001b[0m \u001b[0mi\u001b[0m\u001b[0;34m==\u001b[0m\u001b[0mx\u001b[0m\u001b[0;34m:\u001b[0m\u001b[0;34m\u001b[0m\u001b[0;34m\u001b[0m\u001b[0m\n\u001b[1;32m      4\u001b[0m     \u001b[0mprint\u001b[0m\u001b[0;34m(\u001b[0m\u001b[0mi\u001b[0m\u001b[0;34m,\u001b[0m\u001b[0mend\u001b[0m\u001b[0;34m=\u001b[0m\u001b[0;34m\",\"\u001b[0m\u001b[0;34m)\u001b[0m\u001b[0;34m\u001b[0m\u001b[0;34m\u001b[0m\u001b[0m\n\u001b[1;32m      5\u001b[0m   \u001b[0;32melse\u001b[0m\u001b[0;34m:\u001b[0m\u001b[0;34m\u001b[0m\u001b[0;34m\u001b[0m\u001b[0m\n",
            "\u001b[0;31mValueError\u001b[0m: invalid literal for int() with base 10: 'ghgg'"
          ]
        }
      ]
    },
    {
      "cell_type": "code",
      "source": [
        "#task13 \n",
        "num = int(input(\"Enter number: \"))\n",
        "div = 1\n",
        "div_count = 0\n",
        "for i in range(num+1) :\n",
        "  if num%div == 0 :\n",
        "    div_count += 1\n",
        "    if num == div :\n",
        "      print(div)\n",
        "    else :\n",
        "      print(div, end =\", \")\n",
        "  div += 1\n",
        "print(\"Total\", div_count, \"divisors.\")"
      ],
      "metadata": {
        "colab": {
          "base_uri": "https://localhost:8080/"
        },
        "id": "GYSO_itOwCx5",
        "outputId": "dbb07f7e-7cee-464e-f95e-2a479a0ef54b"
      },
      "execution_count": null,
      "outputs": [
        {
          "output_type": "stream",
          "name": "stdout",
          "text": [
            "Enter number: 121\n",
            "1, 11, 121\n",
            "Total 3 divisors.\n"
          ]
        }
      ]
    },
    {
      "cell_type": "code",
      "source": [
        "#task14PROBLEM\n",
        "num = int(input('Enter number: '))\n",
        "#div = 1\n",
        "sum = 0\n",
        "for div in range(num) :\n",
        "  if num%div == 0 :\n",
        "    sum = sum + div\n",
        "    #div += 1\n",
        "if sum == num :\n",
        "  print('the number is perfect')\n",
        "else : \n",
        "  print('not perfect')"
      ],
      "metadata": {
        "colab": {
          "base_uri": "https://localhost:8080/",
          "height": 253
        },
        "id": "vvm_m2k2yyEX",
        "outputId": "147188cd-cf1b-4704-e1b0-ba5af71deab1"
      },
      "execution_count": null,
      "outputs": [
        {
          "name": "stdout",
          "output_type": "stream",
          "text": [
            "Enter number: 496\n"
          ]
        },
        {
          "output_type": "error",
          "ename": "ZeroDivisionError",
          "evalue": "ignored",
          "traceback": [
            "\u001b[0;31m---------------------------------------------------------------------------\u001b[0m",
            "\u001b[0;31mZeroDivisionError\u001b[0m                         Traceback (most recent call last)",
            "\u001b[0;32m<ipython-input-18-fcb305cb247a>\u001b[0m in \u001b[0;36m<module>\u001b[0;34m()\u001b[0m\n\u001b[1;32m      4\u001b[0m \u001b[0msum\u001b[0m \u001b[0;34m=\u001b[0m \u001b[0;36m0\u001b[0m\u001b[0;34m\u001b[0m\u001b[0;34m\u001b[0m\u001b[0m\n\u001b[1;32m      5\u001b[0m \u001b[0;32mfor\u001b[0m \u001b[0mdiv\u001b[0m \u001b[0;32min\u001b[0m \u001b[0mrange\u001b[0m\u001b[0;34m(\u001b[0m\u001b[0mnum\u001b[0m\u001b[0;34m)\u001b[0m \u001b[0;34m:\u001b[0m\u001b[0;34m\u001b[0m\u001b[0;34m\u001b[0m\u001b[0m\n\u001b[0;32m----> 6\u001b[0;31m   \u001b[0;32mif\u001b[0m \u001b[0mnum\u001b[0m\u001b[0;34m%\u001b[0m\u001b[0mdiv\u001b[0m \u001b[0;34m==\u001b[0m \u001b[0;36m0\u001b[0m \u001b[0;34m:\u001b[0m\u001b[0;34m\u001b[0m\u001b[0;34m\u001b[0m\u001b[0m\n\u001b[0m\u001b[1;32m      7\u001b[0m     \u001b[0msum\u001b[0m \u001b[0;34m=\u001b[0m \u001b[0msum\u001b[0m \u001b[0;34m+\u001b[0m \u001b[0mdiv\u001b[0m\u001b[0;34m\u001b[0m\u001b[0;34m\u001b[0m\u001b[0m\n\u001b[1;32m      8\u001b[0m     \u001b[0;31m#div += 1\u001b[0m\u001b[0;34m\u001b[0m\u001b[0;34m\u001b[0m\u001b[0;34m\u001b[0m\u001b[0m\n",
            "\u001b[0;31mZeroDivisionError\u001b[0m: integer division or modulo by zero"
          ]
        }
      ]
    },
    {
      "cell_type": "code",
      "source": [
        "#Task 14\n",
        "sum = 0\n",
        "num = int(input(\"enter a number: \"))\n",
        "for i in range(1, num):\n",
        "  if num % i == 0:\n",
        "    sum += i\n",
        "if sum == num:\n",
        "  print(num, \"is a perfect number\")\n",
        "else:\n",
        "  print(num, \"is not a perfect number\")\n"
      ],
      "metadata": {
        "colab": {
          "base_uri": "https://localhost:8080/"
        },
        "id": "-eccFlFl5C4i",
        "outputId": "f7fe3d3d-0afd-4685-94ac-ee6dc3f70b36"
      },
      "execution_count": null,
      "outputs": [
        {
          "output_type": "stream",
          "name": "stdout",
          "text": [
            "enter a number: 4\n",
            "4 is not a perfect number\n"
          ]
        }
      ]
    },
    {
      "cell_type": "code",
      "source": [
        "#task15\n",
        "num = int(input(\"Enter number: \"))\n",
        "count = 0\n",
        "for i in range(1, num+1) :\n",
        "  if num%i == 0 :\n",
        "    count += 1\n",
        "  i += 1\n",
        "if count==2 :\n",
        "  print(num, \"is a prime number\")\n",
        "else :\n",
        "  print(num, \"is not a prime number \")"
      ],
      "metadata": {
        "colab": {
          "base_uri": "https://localhost:8080/"
        },
        "id": "hJ9PWq5W6AyZ",
        "outputId": "618bc001-9e9f-4b6c-d3c5-6e792bef23fb"
      },
      "execution_count": null,
      "outputs": [
        {
          "output_type": "stream",
          "name": "stdout",
          "text": [
            "Enter number: 5\n",
            "5 is a prime number\n"
          ]
        }
      ]
    },
    {
      "cell_type": "code",
      "source": [
        "#task16\n",
        "qnt = int(input(\"Enter number: \"))\n",
        "num = int(input(\"Enter number: \"))\n",
        "max = num\n",
        "min = num\n",
        "total = num\n",
        "for i in range(1, qnt) :\n",
        "  num = int(input(\"Enter number: \"))\n",
        "  total += num\n",
        "  i += 1\n",
        "  if num > max :\n",
        "    max = num\n",
        "  else :\n",
        "    min = num\n",
        "print(\"Maximum \", max)\n",
        "print('Minimum', min)\n",
        "print(\"Average \", total/i)"
      ],
      "metadata": {
        "colab": {
          "base_uri": "https://localhost:8080/"
        },
        "id": "hqzemXb28z2F",
        "outputId": "77cfd766-b0e2-4d99-dded-ac0533e4d31c"
      },
      "execution_count": null,
      "outputs": [
        {
          "output_type": "stream",
          "name": "stdout",
          "text": [
            "Enter number: 4\n",
            "Enter number: 1\n",
            "Enter number: 2\n",
            "Enter number: 3\n",
            "Enter number: 4\n",
            "Maximum  4\n",
            "Minimum 1\n",
            "Average  2.5\n"
          ]
        }
      ]
    },
    {
      "cell_type": "code",
      "source": [
        "#task17\n",
        "n = int(input(\"Enter n: \"))\n",
        "for i in range(n) :\n",
        "  print(\"+\"*n)\n",
        "  "
      ],
      "metadata": {
        "colab": {
          "base_uri": "https://localhost:8080/"
        },
        "id": "kLuON1vmA0sP",
        "outputId": "46da4502-ab29-492c-cb12-eaa699ff17d0"
      },
      "execution_count": null,
      "outputs": [
        {
          "output_type": "stream",
          "name": "stdout",
          "text": [
            "Enter n: 8\n",
            "++++++++\n",
            "++++++++\n",
            "++++++++\n",
            "++++++++\n",
            "++++++++\n",
            "++++++++\n",
            "++++++++\n",
            "++++++++\n"
          ]
        }
      ]
    },
    {
      "cell_type": "code",
      "source": [
        "n=int(input())\n",
        "print(\"\\n\".join(\"*\"*n for i in range(n)))\n",
        "  "
      ],
      "metadata": {
        "colab": {
          "base_uri": "https://localhost:8080/"
        },
        "id": "Lv8NTNid-BXT",
        "outputId": "3501b568-a2be-417e-c5c9-98b310d29eb9"
      },
      "execution_count": null,
      "outputs": [
        {
          "output_type": "stream",
          "name": "stdout",
          "text": [
            "7\n",
            "*******\n",
            "*******\n",
            "*******\n",
            "*******\n",
            "*******\n",
            "*******\n",
            "*******\n"
          ]
        }
      ]
    },
    {
      "cell_type": "code",
      "source": [
        "#task18\n",
        "line = int(input(\"Enter heught/line numbers: \"))\n",
        "column = int(input(\"Enter length/column numbers: \"))\n",
        "for i in range(1, line+1) :\n",
        "  for j in range(1, column+1) :\n",
        "    print(j, end = \"\")\n",
        "  print(\"\")  "
      ],
      "metadata": {
        "id": "JbVByo76aM4a",
        "colab": {
          "base_uri": "https://localhost:8080/"
        },
        "outputId": "be33c307-9e94-49d0-c072-7415cb52857b"
      },
      "execution_count": null,
      "outputs": [
        {
          "output_type": "stream",
          "name": "stdout",
          "text": [
            "Enter heught/line numbers: 3\n",
            "Enter length/column numbers: 2\n",
            "12\n",
            "12\n",
            "12\n"
          ]
        }
      ]
    },
    {
      "cell_type": "code",
      "source": [],
      "metadata": {
        "id": "RUaYEoHT-_L5"
      },
      "execution_count": null,
      "outputs": []
    },
    {
      "cell_type": "code",
      "source": [
        "#task19\n",
        "line = int(input(\"Enter heught/line numbers: \"))\n",
        "for i in range(1, line+1) :\n",
        "  for j in range(1, i+1) :\n",
        "    print(j, end = \"\")\n",
        "  print(\"\")  "
      ],
      "metadata": {
        "colab": {
          "base_uri": "https://localhost:8080/"
        },
        "id": "3o-jXIZ4RRJ7",
        "outputId": "8b327543-de3f-4768-8e6e-f6a50265b252"
      },
      "execution_count": null,
      "outputs": [
        {
          "output_type": "stream",
          "name": "stdout",
          "text": [
            "Enter heught/line numbers: 5\n",
            "1\n",
            "12\n",
            "123\n",
            "1234\n",
            "12345\n"
          ]
        }
      ]
    },
    {
      "cell_type": "code",
      "source": [],
      "metadata": {
        "id": "GdY2AVrNBwuH"
      },
      "execution_count": null,
      "outputs": []
    }
  ]
}