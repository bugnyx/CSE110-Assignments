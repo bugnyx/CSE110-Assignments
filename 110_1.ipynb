{
  "nbformat": 4,
  "nbformat_minor": 0,
  "metadata": {
    "colab": {
      "provenance": [],
      "collapsed_sections": []
    },
    "kernelspec": {
      "name": "python3",
      "display_name": "Python 3"
    },
    "language_info": {
      "name": "python"
    }
  },
  "cells": [
    {
      "cell_type": "code",
      "execution_count": null,
      "metadata": {
        "colab": {
          "base_uri": "https://localhost:8080/"
        },
        "id": "DAVPKBmiizgK",
        "outputId": "7d5949c8-8d96-45ac-f903-9d332f5ab42d"
      },
      "outputs": [
        {
          "output_type": "stream",
          "name": "stdout",
          "text": [
            "Enter the first number: 9\n",
            "Enter the second number: 6\n",
            "Sum = 15\n",
            "Product = 54\n",
            "Difference = 3\n"
          ]
        }
      ],
      "source": [
        "#task1\n",
        "num1 = int(input('Enter the first number: '))\n",
        "num2 = int(input('Enter the second number: '))\n",
        "print('Sum =',num1+num2)\n",
        "print('Product =',num1*num2)\n",
        "print('Difference =',num1-num2)"
      ]
    },
    {
      "cell_type": "code",
      "source": [
        "#task2\n",
        "import math \n",
        "radius = float(input('Enter radius: '))\n",
        "print('Area=',math.pi*radius**2)\n",
        "print('Circumference=',2*math.pi*radius)"
      ],
      "metadata": {
        "colab": {
          "base_uri": "https://localhost:8080/"
        },
        "id": "wnPVJgXC0wSs",
        "outputId": "5006079c-03ea-4e93-a871-0a33a30c8650"
      },
      "execution_count": null,
      "outputs": [
        {
          "output_type": "stream",
          "name": "stdout",
          "text": [
            "Enter radius: 5\n",
            "Area= 78.53981633974483\n",
            "Circumference= 31.41592653589793\n"
          ]
        }
      ]
    },
    {
      "cell_type": "code",
      "source": [
        "#task3\n",
        "num1 = float(input('Enter the first number= '))\n",
        "num2 = float(input('Enter the second number= '))\n",
        "if num1>num2:\n",
        "  print('The first number is greater')\n",
        "elif num1<num2:\n",
        "  print('The second number is greater')\n",
        "else:\n",
        "  print('The numbers are equal')"
      ],
      "metadata": {
        "colab": {
          "base_uri": "https://localhost:8080/"
        },
        "id": "9VE7OF1q2Zji",
        "outputId": "2d8b50fc-4be0-4013-a677-c0b1a99b9e96"
      },
      "execution_count": null,
      "outputs": [
        {
          "output_type": "stream",
          "name": "stdout",
          "text": [
            "Enter the first number= 6\n",
            "Enter the second number= 9\n",
            "The second number is greater\n"
          ]
        }
      ]
    },
    {
      "cell_type": "code",
      "source": [
        "#task4\n",
        "num1 = float(input('Enter the first number= '))\n",
        "num2 = float(input('Enter the second number= '))\n",
        "if num1>num2:\n",
        "  print(num1-num2)\n",
        "elif num1<num2:\n",
        "  print(num2-num1)\n",
        "else:\n",
        "  print(0)"
      ],
      "metadata": {
        "colab": {
          "base_uri": "https://localhost:8080/"
        },
        "id": "4sIFxr6e37i4",
        "outputId": "221bbb6a-1268-42c3-ebaa-7ba1b37933b1"
      },
      "execution_count": null,
      "outputs": [
        {
          "output_type": "stream",
          "name": "stdout",
          "text": [
            "Enter the first number= -40\n",
            "Enter the second number= -4\n",
            "36.0\n"
          ]
        }
      ]
    },
    {
      "cell_type": "code",
      "source": [
        "#task5\n",
        "num = int(input('Enter the number: '))\n",
        "if num == 0 :\n",
        "  print('The number is zero')\n",
        "elif num%2==0 :\n",
        "  print('The number is even')\n",
        "else :\n",
        "  print('The number is odd')"
      ],
      "metadata": {
        "colab": {
          "base_uri": "https://localhost:8080/"
        },
        "id": "iQfFrA8N6MP6",
        "outputId": "70336026-df18-4675-a217-0865fde89e04"
      },
      "execution_count": null,
      "outputs": [
        {
          "output_type": "stream",
          "name": "stdout",
          "text": [
            "Enter the number: 5\n",
            "The number is odd\n"
          ]
        }
      ]
    },
    {
      "cell_type": "code",
      "source": [
        "#task6\n",
        "num = int(input('Enter the number: '))\n",
        "if num%2==0 :\n",
        "  print(num)\n",
        "elif num%5==0 :\n",
        "  print(num)\n",
        "else :\n",
        "  print('Not a multiple of 2 or 5')"
      ],
      "metadata": {
        "colab": {
          "base_uri": "https://localhost:8080/"
        },
        "id": "-T_UFJds9JXa",
        "outputId": "10fa3da2-7c21-43e8-ee5b-a3075c344650"
      },
      "execution_count": null,
      "outputs": [
        {
          "output_type": "stream",
          "name": "stdout",
          "text": [
            "Enter the number: 7\n",
            "Not a multiple of 2 or 5\n"
          ]
        }
      ]
    },
    {
      "cell_type": "code",
      "source": [
        "#task7\n",
        "num =int(input('Enter the number: '))\n",
        "if num%2==0 and num%5==0 :\n",
        "  print('Multiple of 2 and 5 both')\n",
        "elif num%2==0 or num%5==0 :\n",
        "  print(num)\n",
        "else :\n",
        "  print('Not a multiple we want')"
      ],
      "metadata": {
        "colab": {
          "base_uri": "https://localhost:8080/"
        },
        "id": "EqEnSHpzB1v5",
        "outputId": "74a5ea3e-767d-41c2-8c08-c557b780d87c"
      },
      "execution_count": null,
      "outputs": [
        {
          "output_type": "stream",
          "name": "stdout",
          "text": [
            "Enter the number: 0\n",
            "Multiple of 2 and 5 both\n"
          ]
        }
      ]
    },
    {
      "cell_type": "code",
      "source": [
        "#task8\n",
        "num = int(input('Enter the number: '))\n",
        "if num%2==0 and num%5==0 :\n",
        "  print(num)\n",
        "else :\n",
        "  print('Not a multple of 2 and 5 both')"
      ],
      "metadata": {
        "colab": {
          "base_uri": "https://localhost:8080/"
        },
        "id": "PjuVFiOvEQso",
        "outputId": "dcb5934a-a42b-4c9b-d04b-be5159b53294"
      },
      "execution_count": null,
      "outputs": [
        {
          "output_type": "stream",
          "name": "stdout",
          "text": [
            "Enter the number: 10\n",
            "10\n"
          ]
        }
      ]
    },
    {
      "cell_type": "code",
      "source": [
        "#task9\n",
        "sec = int(input('The number of seconds: '))\n",
        "print('Hours:',sec//3600)\n",
        "print('Minutes:',(sec%3600)//60)\n",
        "print('seconds:',(sec%3600)%60)"
      ],
      "metadata": {
        "id": "VcZYADIuFVmq",
        "colab": {
          "base_uri": "https://localhost:8080/"
        },
        "outputId": "00fffbb4-2464-45b1-9f5b-21ce1e7de3a0"
      },
      "execution_count": null,
      "outputs": [
        {
          "output_type": "stream",
          "name": "stdout",
          "text": [
            "The number of seconds: 500\n",
            "Hours: 0\n",
            "Minutes: 8\n",
            "seconds: 20\n"
          ]
        }
      ]
    },
    {
      "cell_type": "code",
      "source": [
        "#task10\n",
        "hours_worked = int(input('Hours worked: '))\n",
        "if hours_worked<0 :\n",
        "  print('Hours cannot be negative')\n",
        "elif hours_worked<=40 :\n",
        "  print('Salary:',hours_worked*200)\n",
        "elif hours_worked<=168 :\n",
        "  print('Salary:',8000+(40*200)+((hours_worked-40)*300))\n",
        "else :\n",
        "  print('Impossible to work more than 168 hours weekly')"
      ],
      "metadata": {
        "colab": {
          "base_uri": "https://localhost:8080/"
        },
        "id": "8g_4tDRr4J_v",
        "outputId": "bc93257e-61c8-4efd-ab84-3df744b865dc"
      },
      "execution_count": null,
      "outputs": [
        {
          "output_type": "stream",
          "name": "stdout",
          "text": [
            "Hours worked: 60\n",
            "Salary: 22000\n"
          ]
        }
      ]
    },
    {
      "cell_type": "code",
      "source": [
        "#task11\n",
        "s = int(input('Enter the value of S: '))\n",
        "if s<100 :\n",
        "  print('P:',3000-125*s**2)\n",
        "elif s>=100 :\n",
        "  print('p:',12000/(4+((s**2)/14900)))"
      ],
      "metadata": {
        "colab": {
          "base_uri": "https://localhost:8080/"
        },
        "id": "0YmHou828AYw",
        "outputId": "5ed77ed3-e221-4091-b2a4-5766149beca6"
      },
      "execution_count": null,
      "outputs": [
        {
          "output_type": "stream",
          "name": "stdout",
          "text": [
            "Enter the value of S: 120\n",
            "p: 2416.2162162162163\n"
          ]
        }
      ]
    },
    {
      "cell_type": "code",
      "source": [
        "#task12\n",
        "time = int(input('What time is it?: '))\n",
        "if time<0 or time>23 :\n",
        "  print('Wrong time')\n",
        "elif time>=4 and time<=6 :\n",
        "  print('Breakfast')\n",
        "elif time>=12 and time<=13 :\n",
        "  print('Lunch')\n",
        "elif time>=16 and time<=17 :\n",
        "  print('Snacks')\n",
        "elif time >=19 and time<=20 :\n",
        "  print('Dinner')\n",
        "else :\n",
        "  print('Patience is virtue')"
      ],
      "metadata": {
        "colab": {
          "base_uri": "https://localhost:8080/"
        },
        "id": "L9VAuAi3BFfs",
        "outputId": "ec727627-fd1d-479c-9b45-67ba507216fe"
      },
      "execution_count": null,
      "outputs": [
        {
          "output_type": "stream",
          "name": "stdout",
          "text": [
            "What time is it?: 20\n",
            "Dinner\n"
          ]
        }
      ]
    },
    {
      "cell_type": "code",
      "source": [
        "#task13\n",
        "mark = int(input(\"Enter the student's mark: \"))\n",
        "if mark<0 or mark>100 :\n",
        "  print('Invalid mark')\n",
        "elif mark>=90 :\n",
        "  print('A')\n",
        "elif mark>=80 :\n",
        "  print('B')\n",
        "elif mark>=70 :\n",
        "  print ('C')\n",
        "elif mark>=60 :\n",
        "  print('D')\n",
        "elif mark>=50 :\n",
        "  print('E')\n",
        "else :\n",
        "  print('F')"
      ],
      "metadata": {
        "colab": {
          "base_uri": "https://localhost:8080/"
        },
        "id": "Mw_6bsm2DmyV",
        "outputId": "948e3176-1824-4204-d33a-34cb317daef1"
      },
      "execution_count": null,
      "outputs": [
        {
          "output_type": "stream",
          "name": "stdout",
          "text": [
            "Enter the student's mark: 100\n",
            "A\n"
          ]
        }
      ]
    },
    {
      "cell_type": "code",
      "source": [
        "#task14\n",
        "distance = float(input('Enter the distance: '))\n",
        "time = float(input('Enter the time: '))\n",
        "velocity = (3600*distance)/(1000*time)\n",
        "print('The speed of the car is:',velocity,'km/h')\n",
        "if velocity<60 :\n",
        "  print('Too slow. Needs more changes.')\n",
        "elif velocity>=60 and velocity<=90 :\n",
        "  print('Velocity is okay. The car is ready!')\n",
        "else :\n",
        "  print('Too fast. Only a few changes should suffice.')"
      ],
      "metadata": {
        "colab": {
          "base_uri": "https://localhost:8080/"
        },
        "id": "Rj4wwXt3GqD2",
        "outputId": "74f37674-af77-440e-80ee-e3bb3d889fc7"
      },
      "execution_count": null,
      "outputs": [
        {
          "output_type": "stream",
          "name": "stdout",
          "text": [
            "Enter the distance: 16000\n",
            "Enter the time: 7200\n",
            "The speed of the car is: 8.0 km/h\n",
            "Too slow. Needs more changes.\n"
          ]
        }
      ]
    },
    {
      "cell_type": "code",
      "source": [
        "#task15\n",
        "cg = float(input(\"Enter the student's CGPA:\" ))\n",
        "cr = int(input(\"Enter credits completed by the student: \"))\n",
        "if cr<30 or 4<=cg<3.8 :\n",
        "  print('The student is not eligible for a waiver')\n",
        "elif cr>=30 and cg>=3.8 and cg<=4 :\n",
        "  if cg>=3.8 and cg<=3.9 :\n",
        "    print('The student is eligible for a waiver of 25 percent.')\n",
        "  elif cg<=3.94 :\n",
        "    print('The student is eligible for a waiver of 50 percent.')\n",
        "  elif cg<=3.99 :\n",
        "    print('The student is eligible for a waiver of 75 percent.')  \n",
        "  elif cg==4.00 :\n",
        "    print('The student is eligible for a waiver of 100 percent.')\n",
        "else :\n",
        "  print('Invalid input')"
      ],
      "metadata": {
        "colab": {
          "base_uri": "https://localhost:8080/"
        },
        "id": "laou9Fb_Wgu1",
        "outputId": "9b95a8c9-60f0-447d-a3a4-adcc804538ed"
      },
      "execution_count": null,
      "outputs": [
        {
          "output_type": "stream",
          "name": "stdout",
          "text": [
            "Enter the student's CGPA:3.7\n",
            "Enter credits completed by the student: 30\n",
            "Invalid input\n"
          ]
        }
      ]
    },
    {
      "cell_type": "code",
      "source": [
        "#task15_2\n",
        "cr = int(input(\"Enter credits completed by the student: \"))\n",
        "cg = float(input(\"Enter the student's CGPA: \"))\n",
        "if 30<=cr<=136 and 3.8<=cg<=4 :\n",
        "  if cg==4 :\n",
        "    print('The student is eligible for a waiver of 100 percent.')\n",
        "  elif cg>=3.95 :\n",
        "    print('The student is eligible for a waiver of 75 percent.')\n",
        "  elif cg>=3.90 :\n",
        "    print('The student is eligible for a waiver of 50 percent.')\n",
        "  else :\n",
        "    print('The student is eligible for a waiver of 25 percent.')\n",
        "elif 0<=cr<=29 or 0<=cg<3.8 :\n",
        "  print('The student is not eligible for a waiver')\n",
        "else :\n",
        "  print('Invalid input.')"
      ],
      "metadata": {
        "colab": {
          "base_uri": "https://localhost:8080/"
        },
        "id": "KlhZzq-nBdMQ",
        "outputId": "4b4bd968-c434-41d9-df7a-0635a518adef"
      },
      "execution_count": null,
      "outputs": [
        {
          "output_type": "stream",
          "name": "stdout",
          "text": [
            "Enter credits completed by the student: 32\n",
            "Enter the student's CGPA: 3.8\n",
            "The student is eligible for a waiver of 25 percent.\n"
          ]
        }
      ]
    },
    {
      "cell_type": "code",
      "source": [
        "#task20\n",
        "num = int(input('Enter the number: '))\n",
        "if num%2==0 or num%5==0 :\n",
        "  print('Multiple of 2 or 5 or both')\n",
        "else :\n",
        "  print(num)"
      ],
      "metadata": {
        "colab": {
          "base_uri": "https://localhost:8080/"
        },
        "id": "UGf22JgUJAyB",
        "outputId": "1ae31954-06d9-4946-a193-49e9ea1f80ef"
      },
      "execution_count": null,
      "outputs": [
        {
          "output_type": "stream",
          "name": "stdout",
          "text": [
            "Enter the number: 10\n",
            "Multiple of 2 or 5 or both\n"
          ]
        }
      ]
    },
    {
      "cell_type": "code",
      "source": [
        "#task21\n",
        "num = int(input('Enter the number: '))\n",
        "if num%2==0 and num%5==0 :\n",
        "  print('Multiple of 2 and 5 both')\n",
        "else :\n",
        "  print(num)"
      ],
      "metadata": {
        "colab": {
          "base_uri": "https://localhost:8080/"
        },
        "id": "Z9YSl-qSMNR3",
        "outputId": "ce9ec78b-cbe0-4e2b-fa28-5ae0e651fec8"
      },
      "execution_count": null,
      "outputs": [
        {
          "output_type": "stream",
          "name": "stdout",
          "text": [
            "Enter the number: 6\n",
            "6\n"
          ]
        }
      ]
    },
    {
      "cell_type": "code",
      "source": [
        "#task22\n",
        "canvas = int(input('Number of canvases: '))\n",
        "tubes = int(input('number of tubes: '))\n",
        "total = (canvas*120)+(tubes*75)\n",
        "print('Previous total:',total)\n",
        "if total<0 :\n",
        "  print('Invalid input')\n",
        "elif total>=1000 :\n",
        "  print('New total after discount:',total-150)\n",
        "elif total>=750 :\n",
        "  print('New total after discount:',total-50)\n",
        "elif total>=500 :\n",
        "  print('New total after discount:',total-20)\n",
        "elif total>300 :\n",
        "  print('New total after discount:',total-10)\n",
        "else :\n",
        "  print('New total after discount:',total)"
      ],
      "metadata": {
        "colab": {
          "base_uri": "https://localhost:8080/"
        },
        "id": "xOBWYGflNDXv",
        "outputId": "de1aa3f2-d270-4deb-a93c-90c4f0375785"
      },
      "execution_count": null,
      "outputs": [
        {
          "output_type": "stream",
          "name": "stdout",
          "text": [
            "Number of canvases: 0\n",
            "number of tubes: 3\n",
            "Previous total: 225\n",
            "New total after discount: 225\n"
          ]
        }
      ]
    },
    {
      "cell_type": "code",
      "source": [
        "#task23\n",
        "tempf = float(input('Enter the temperature: '))\n",
        "tempc = (tempf-32)*.56\n",
        "if tempc<(-273) :\n",
        "  print(\"Trmperature can't be lower than absolute zero\")\n",
        "elif tempc>=30 :\n",
        "  print('Summer')\n",
        "elif tempc>25 :\n",
        "  print('Spring')\n",
        "elif tempc>=20 :\n",
        "  print('Autumn')\n",
        "else :\n",
        "  print('winter')"
      ],
      "metadata": {
        "colab": {
          "base_uri": "https://localhost:8080/"
        },
        "id": "RiPiQImeukkW",
        "outputId": "9e37d2f9-9457-44fb-d82b-f2a7994839cd"
      },
      "execution_count": null,
      "outputs": [
        {
          "output_type": "stream",
          "name": "stdout",
          "text": [
            "Enter the temperature: -34665\n",
            "Trmperature can't be lower than absolute zero\n"
          ]
        }
      ]
    },
    {
      "cell_type": "code",
      "source": [
        "#task23\n",
        "temperature_f = float(input('Enter the temparature: '))\n",
        "temperature_c = (temperature_f-32)*.56\n",
        "if temperature_c>=30 :\n",
        "  print('Summer')\n",
        "elif temperature_c>25 :\n",
        "  print('Spring')\n",
        "elif temperature_c>=20 :\n",
        "  print('Autumn')\n",
        "elif temperature_c>=-273 :\n",
        "  print('Winter')\n",
        "else :\n",
        "  print('Temperature cannot be lower than absolute zero')"
      ],
      "metadata": {
        "colab": {
          "base_uri": "https://localhost:8080/"
        },
        "id": "3CYreEV3Bx23",
        "outputId": "1a3ecc51-38da-43b0-8e98-b16e660a6a43"
      },
      "execution_count": null,
      "outputs": [
        {
          "output_type": "stream",
          "name": "stdout",
          "text": [
            "Enter the temparature: -345\n",
            "Winter\n"
          ]
        }
      ]
    }
  ]
}